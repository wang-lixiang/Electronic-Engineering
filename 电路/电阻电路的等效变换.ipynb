{
 "cells": [
  {
   "cell_type": "markdown",
   "id": "3b568c87",
   "metadata": {},
   "source": [
    "# 电阻电路的等效"
   ]
  },
  {
   "cell_type": "markdown",
   "id": "9122b2ff",
   "metadata": {},
   "source": [
    "## 电压源串联"
   ]
  },
  {
   "cell_type": "markdown",
   "id": "85a128d5",
   "metadata": {},
   "source": [
    "### 同向相加，反向相减"
   ]
  },
  {
   "cell_type": "markdown",
   "id": "25e64458",
   "metadata": {},
   "source": [
    "![5](./Image/5.png)"
   ]
  },
  {
   "cell_type": "markdown",
   "id": "9283538b",
   "metadata": {},
   "source": [
    "## 电流源并联"
   ]
  },
  {
   "cell_type": "markdown",
   "id": "642da090",
   "metadata": {},
   "source": [
    "![6](./Image/6.png)"
   ]
  },
  {
   "cell_type": "markdown",
   "id": "7ef7d28e",
   "metadata": {},
   "source": [
    "## 电压源和电流源串联"
   ]
  },
  {
   "cell_type": "markdown",
   "id": "bc5da187",
   "metadata": {},
   "source": [
    "### 两者串联的话，可以直接忽视掉电压源，原理是电压源电阻可以当成无限大，产生的电流直接忽略不计"
   ]
  },
  {
   "cell_type": "markdown",
   "id": "3e3d7bce",
   "metadata": {},
   "source": [
    "![7](./Image/7.png)"
   ]
  },
  {
   "cell_type": "markdown",
   "id": "7dc466e0",
   "metadata": {},
   "source": [
    "## 电压源和电流源并联"
   ]
  },
  {
   "cell_type": "markdown",
   "id": "67e52816",
   "metadata": {},
   "source": [
    "### 两者并联的话，电流源可以忽略不计，原理是电流源电阻无限小，产生的电压忽略不计"
   ]
  },
  {
   "cell_type": "markdown",
   "id": "91ca5cd6",
   "metadata": {},
   "source": [
    "![8](./Image/8.png)"
   ]
  },
  {
   "cell_type": "markdown",
   "id": "059f0feb",
   "metadata": {},
   "source": [
    "## 电压源转化为电流源"
   ]
  },
  {
   "cell_type": "markdown",
   "id": "6a419b36",
   "metadata": {},
   "source": [
    "### 电压源和一个电阻串联之后可以等价为一个电流源和这个电阻并联的形式，电流源的大小满足欧姆定律"
   ]
  },
  {
   "cell_type": "markdown",
   "id": "5f3ccb5c",
   "metadata": {},
   "source": [
    "### 电流源的箭头指向是电压源的正极"
   ]
  },
  {
   "cell_type": "markdown",
   "id": "f644c08d",
   "metadata": {},
   "source": [
    "![9](./Image/9.png)"
   ]
  },
  {
   "cell_type": "markdown",
   "id": "e61bc7ff",
   "metadata": {},
   "source": [
    "## 电流源转化电压源"
   ]
  },
  {
   "cell_type": "markdown",
   "id": "2966e49e",
   "metadata": {},
   "source": [
    "### 电流源和一个电阻并联等价于电压源和这个电阻串联"
   ]
  },
  {
   "cell_type": "markdown",
   "id": "f2ab38c9",
   "metadata": {},
   "source": [
    "### 电压源的正极是电流源箭头的指向方向"
   ]
  },
  {
   "cell_type": "markdown",
   "id": "78e5b356",
   "metadata": {},
   "source": [
    "![11](./Image/11.png)"
   ]
  },
  {
   "cell_type": "markdown",
   "id": "100157f9",
   "metadata": {},
   "source": [
    "## 例题"
   ]
  },
  {
   "cell_type": "markdown",
   "id": "55e5a5bc",
   "metadata": {},
   "source": [
    "![10](./Image/10.png)"
   ]
  },
  {
   "cell_type": "markdown",
   "id": "6246d2e4",
   "metadata": {},
   "source": [
    "![12](./Image/12.png)"
   ]
  },
  {
   "cell_type": "markdown",
   "id": "37d84bdf",
   "metadata": {},
   "source": [
    "## 等效代换"
   ]
  },
  {
   "cell_type": "markdown",
   "id": "147fdde4",
   "metadata": {},
   "source": [
    "![13](./Image/13.png)"
   ]
  },
  {
   "cell_type": "markdown",
   "id": "3ad5c756",
   "metadata": {},
   "source": [
    "### 例题"
   ]
  },
  {
   "cell_type": "markdown",
   "id": "f4d62ed0",
   "metadata": {},
   "source": [
    "![14](./Image/14.png)"
   ]
  },
  {
   "cell_type": "code",
   "execution_count": null,
   "id": "4d6fdf2e",
   "metadata": {},
   "outputs": [],
   "source": []
  }
 ],
 "metadata": {
  "kernelspec": {
   "display_name": "Python 3",
   "language": "python",
   "name": "python3"
  },
  "language_info": {
   "codemirror_mode": {
    "name": "ipython",
    "version": 3
   },
   "file_extension": ".py",
   "mimetype": "text/x-python",
   "name": "python",
   "nbconvert_exporter": "python",
   "pygments_lexer": "ipython3",
   "version": "3.6.13"
  }
 },
 "nbformat": 4,
 "nbformat_minor": 5
}
