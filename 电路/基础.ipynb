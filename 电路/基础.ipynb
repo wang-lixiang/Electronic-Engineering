{
 "cells": [
  {
   "cell_type": "markdown",
   "id": "b42b11cd",
   "metadata": {},
   "source": [
    "## 串并联、短路与断路"
   ]
  },
  {
   "cell_type": "markdown",
   "id": "480d14aa",
   "metadata": {},
   "source": [
    "![1](./Image/1.png)"
   ]
  },
  {
   "cell_type": "markdown",
   "id": "672d5e61",
   "metadata": {},
   "source": [
    "## 电源"
   ]
  },
  {
   "cell_type": "markdown",
   "id": "e131197d",
   "metadata": {},
   "source": [
    "#### 有两种不同的电源，电压源和电流源，他们之间是可以互相等价的，满足欧姆定律"
   ]
  },
  {
   "cell_type": "markdown",
   "id": "895cd2e0",
   "metadata": {},
   "source": [
    "![2](./Image/2.png)"
   ]
  },
  {
   "cell_type": "markdown",
   "id": "172d2e71",
   "metadata": {},
   "source": [
    "## 电位、电位差"
   ]
  },
  {
   "cell_type": "markdown",
   "id": "f5659749",
   "metadata": {},
   "source": [
    "#### 只要保持着中间没有其它元器件，那么这个线上的电位是一样的"
   ]
  },
  {
   "cell_type": "markdown",
   "id": "4292c4e1",
   "metadata": {},
   "source": [
    "#### 考虑接地的问题，电位是0"
   ]
  },
  {
   "cell_type": "markdown",
   "id": "f42964e6",
   "metadata": {},
   "source": [
    "![3](./Image/3.png)"
   ]
  },
  {
   "cell_type": "markdown",
   "id": "01fd11d0",
   "metadata": {},
   "source": [
    "## 电位、电位差的例题"
   ]
  },
  {
   "cell_type": "markdown",
   "id": "fb580feb",
   "metadata": {},
   "source": [
    "![4](./Image/4.png)"
   ]
  },
  {
   "cell_type": "markdown",
   "id": "9fc9cb3a",
   "metadata": {},
   "source": [
    "## 支路、结点、回路、网孔"
   ]
  },
  {
   "cell_type": "markdown",
   "id": "a19fe756",
   "metadata": {},
   "source": [
    "![18](./Image/18.png)"
   ]
  },
  {
   "cell_type": "markdown",
   "id": "017a5d8e",
   "metadata": {},
   "source": [
    "### 注意支路和结点是不包含导线的，必须要有元器件"
   ]
  },
  {
   "cell_type": "markdown",
   "id": "c45b2978",
   "metadata": {},
   "source": [
    "### 对于结点的判断需要注意并不是直接三岔点就是结点"
   ]
  },
  {
   "cell_type": "code",
   "execution_count": null,
   "id": "28be2c93",
   "metadata": {},
   "outputs": [],
   "source": []
  }
 ],
 "metadata": {
  "kernelspec": {
   "display_name": "Python 3",
   "language": "python",
   "name": "python3"
  },
  "language_info": {
   "codemirror_mode": {
    "name": "ipython",
    "version": 3
   },
   "file_extension": ".py",
   "mimetype": "text/x-python",
   "name": "python",
   "nbconvert_exporter": "python",
   "pygments_lexer": "ipython3",
   "version": "3.6.13"
  }
 },
 "nbformat": 4,
 "nbformat_minor": 5
}
