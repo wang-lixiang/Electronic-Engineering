{
 "cells": [
  {
   "cell_type": "markdown",
   "id": "485e7c24",
   "metadata": {},
   "source": [
    "## 基尔霍夫电流定律"
   ]
  },
  {
   "cell_type": "markdown",
   "id": "55de3fb9",
   "metadata": {},
   "source": [
    "任一结点（交汇点）上流出的电流之和等于流入电流之和。"
   ]
  },
  {
   "cell_type": "markdown",
   "id": "3f637efc",
   "metadata": {},
   "source": [
    "![15](./Image/15.png)"
   ]
  },
  {
   "cell_type": "markdown",
   "id": "9d5033c2",
   "metadata": {},
   "source": [
    "受控电流源：电流的大小会随着指定公式不断变化  \n",
    "受控电压源：电压的大小会随着指定公式不断变化"
   ]
  },
  {
   "cell_type": "markdown",
   "id": "198fc910",
   "metadata": {},
   "source": [
    "## 基尔霍夫电压定律"
   ]
  },
  {
   "cell_type": "markdown",
   "id": "9a4c0ca3",
   "metadata": {},
   "source": [
    "任一回路上U与IR之和为0"
   ]
  },
  {
   "cell_type": "markdown",
   "id": "4a1405a8",
   "metadata": {},
   "source": [
    "![16](./Image/16.png)"
   ]
  },
  {
   "cell_type": "markdown",
   "id": "71276e73",
   "metadata": {},
   "source": [
    "上面三个式子分别是三个回路形成的满足基尔霍夫定律的等式"
   ]
  },
  {
   "cell_type": "markdown",
   "id": "93067eda",
   "metadata": {},
   "source": [
    "这里要注意的是式子中的正负号的问题，规定了一个方向为正，就应该相反的方向为负，电压源的话是从+到-为正"
   ]
  },
  {
   "cell_type": "markdown",
   "id": "1db93c4d",
   "metadata": {},
   "source": [
    "![17](./Image/17.png)"
   ]
  },
  {
   "cell_type": "code",
   "execution_count": null,
   "id": "a0f8a783",
   "metadata": {},
   "outputs": [],
   "source": []
  }
 ],
 "metadata": {
  "kernelspec": {
   "display_name": "Python 3",
   "language": "python",
   "name": "python3"
  },
  "language_info": {
   "codemirror_mode": {
    "name": "ipython",
    "version": 3
   },
   "file_extension": ".py",
   "mimetype": "text/x-python",
   "name": "python",
   "nbconvert_exporter": "python",
   "pygments_lexer": "ipython3",
   "version": "3.6.13"
  }
 },
 "nbformat": 4,
 "nbformat_minor": 5
}
